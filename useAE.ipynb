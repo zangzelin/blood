{
 "cells": [
  {
   "cell_type": "code",
   "execution_count": 19,
   "id": "41809690-9df5-48e3-9a15-5061f3647a50",
   "metadata": {},
   "outputs": [],
   "source": [
    "from loaddata import preprocess\n",
    "from utils import maketrainData\n",
    "import numpy as np"
   ]
  },
  {
   "cell_type": "code",
   "execution_count": 3,
   "id": "36f26639-4cbb-4df7-984f-82585aeedbbe",
   "metadata": {},
   "outputs": [],
   "source": [
    "(\n",
    "    nNull, missing, fillWithMean, fillWithMiddle, fillWithKNN,\n",
    " ) = preprocess(knn_neighbors=2, ifNorm=True, preSave=True)\n",
    "\n",
    "nNullData, nNullLabel = nNull['data'], nNull['label']\n",
    "missingData, missingLabel = missing['data'], missing['label']\n",
    "fillWithMeanData, fillWithMeanLabel = fillWithMean['data'], fillWithMean['label']\n",
    "fillWithMiddleData, fillWithMiddleLabel = fillWithMiddle['data'], fillWithMiddle['label']"
   ]
  },
  {
   "cell_type": "code",
   "execution_count": 4,
   "id": "7cf08c9f-9f8c-4a18-a632-c8f3679b4e69",
   "metadata": {},
   "outputs": [
    {
     "data": {
      "text/plain": [
       "array([[0.64705882, 0.30645161, 0.06695652, ..., 0.        , 0.        ,\n",
       "        0.        ],\n",
       "       [0.5       , 0.1827957 , 0.05913043, ..., 0.        , 0.        ,\n",
       "        0.        ],\n",
       "       [0.36764706, 0.26344086, 0.08173913, ..., 1.        , 0.        ,\n",
       "        0.        ],\n",
       "       ...,\n",
       "       [0.41176471, 0.39247312, 0.1226087 , ..., 0.        , 0.        ,\n",
       "        0.        ],\n",
       "       [0.31862745, 0.35483871, 0.09826087, ..., 0.        , 0.        ,\n",
       "        0.        ],\n",
       "       [0.44117647, 0.42473118, 0.1173913 , ..., 0.        , 0.        ,\n",
       "        0.        ]])"
      ]
     },
     "execution_count": 4,
     "metadata": {},
     "output_type": "execute_result"
    }
   ],
   "source": [
    "missingData"
   ]
  },
  {
   "cell_type": "code",
   "execution_count": null,
   "id": "a5908ddc-f829-4406-a1f3-680bffe963ae",
   "metadata": {},
   "outputs": [
    {
     "data": {
      "text/plain": [
       "(11,)"
      ]
     },
     "execution_count": 26,
     "metadata": {},
     "output_type": "execute_result"
    }
   ],
   "source": [
    "np.max(missingData[:, 7:], axis=0).shape"
   ]
  },
  {
   "cell_type": "code",
   "execution_count": null,
   "id": "b3a05e74-c079-4c02-826f-27c64d29d875",
   "metadata": {},
   "outputs": [],
   "source": [
    "m, d, l = missing.keys()"
   ]
  },
  {
   "cell_type": "code",
   "execution_count": null,
   "id": "69b17c3e-8a60-46a0-9f80-e31a8cfc7ca1",
   "metadata": {},
   "outputs": [
    {
     "data": {
      "text/plain": [
       "'data'"
      ]
     },
     "execution_count": 11,
     "metadata": {},
     "output_type": "execute_result"
    }
   ],
   "source": [
    "d"
   ]
  },
  {
   "cell_type": "code",
   "execution_count": null,
   "id": "07952b06-1c88-4536-8b53-b3662a40facb",
   "metadata": {},
   "outputs": [],
   "source": []
  }
 ],
 "metadata": {
  "kernelspec": {
   "display_name": "Python 3 (ipykernel)",
   "language": "python",
   "name": "python3"
  },
  "language_info": {
   "codemirror_mode": {
    "name": "ipython",
    "version": 3
   },
   "file_extension": ".py",
   "mimetype": "text/x-python",
   "name": "python",
   "nbconvert_exporter": "python",
   "pygments_lexer": "ipython3",
   "version": "3.8.10"
  }
 },
 "nbformat": 4,
 "nbformat_minor": 5
}
